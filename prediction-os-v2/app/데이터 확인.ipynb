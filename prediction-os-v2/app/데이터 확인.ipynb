{
 "cells": [
  {
   "cell_type": "code",
   "execution_count": 224,
   "id": "6724d885-bbae-4507-a0a0-8dcd146633e0",
   "metadata": {
    "tags": []
   },
   "outputs": [],
   "source": [
    "import argparse\n",
    "import os\n",
    "import glob\n",
    "import pandas as pd\n",
    "import json\n",
    "from utils import load_json"
   ]
  },
  {
   "cell_type": "code",
   "execution_count": 225,
   "id": "cff9d374-c859-491a-9e84-ac573989985e",
   "metadata": {
    "tags": []
   },
   "outputs": [],
   "source": [
    "f_json = load_json(\"필터 결과.json\")\n",
    "df_check = pd.read_csv(\"../meta/checklist.csv\")\n",
    "df_data = pd.DataFrame([load_json(d) for d in glob.glob(f'extract/*.json')])"
   ]
  },
  {
   "cell_type": "code",
   "execution_count": 226,
   "id": "9150a2bf-9a0f-4135-87fa-cfc2b3a63c90",
   "metadata": {
    "tags": []
   },
   "outputs": [],
   "source": [
    "korq = {'data':[\n",
    "            {'title':8,\n",
    "            }]\n",
    "        }\n",
    "if 'doc_id' in f_json:\n",
    "    del f_json['doc_id']\n",
    "\n",
    "req_qid = {}\n",
    "for k, vs in f_json.items():\n",
    "    for v in vs:\n",
    "        v = v.split('_')[-1].split('.')[0]\n",
    "        req_qid[v] = req_qid.get(v, []) + [k]"
   ]
  },
  {
   "cell_type": "code",
   "execution_count": 227,
   "id": "20ee528f-c856-457d-9147-2514283e52b4",
   "metadata": {
    "tags": []
   },
   "outputs": [],
   "source": [
    "para = []\n",
    "for req, qid in req_qid.items():\n",
    "    context = {'context_id':req}\n",
    "    req_data = df_data[df_data.pid==req]\n",
    "    context['context'] = req_data.context.values[0]\n",
    "    context['qas'] = []\n",
    "    for q in qid:\n",
    "        qa = {}\n",
    "        qa['id'] = f'8_{req}_{q}'\n",
    "        qa['question'] = df_check[df_check.question_id==q].sub_question.values[0]\n",
    "        qa['answers'] = []\n",
    "        tmp = pd.DataFrame(req_data.answers.values[0])\n",
    "        tmp = tmp[(tmp.question_id==int(q.split('_')[0])) & (tmp.sub_question_id==int(q.split('_')[1]))]\n",
    "        if tmp.answer.values[0]==0:\n",
    "            qa[\"is_impossible\"] = True\n",
    "        else:\n",
    "            qa[\"is_impossible\"] = False\n",
    "            ans = {}\n",
    "            ans['text'] = tmp.extract.values[0]\n",
    "            ans['answer_start'] = req_data.context.values[0].index(tmp.extract.values[0])\n",
    "            qa['answers'].append(ans)\n",
    "        context['qas'].append(qa)\n",
    "    para.append(context)\n",
    "korq['data'][0]['paragraphs'] = para"
   ]
  },
  {
   "cell_type": "code",
   "execution_count": 251,
   "id": "96ef2e79-3d1f-47c5-98d4-dc8da4b2cb81",
   "metadata": {
    "tags": []
   },
   "outputs": [
    {
     "name": "stdout",
     "output_type": "stream",
     "text": [
      "정의: 고용행정포털 데이터베이스 모델링 설계\n",
      "\n",
      "세부 내용 : ㅇ DB 구조의 설계는 관련 업무 처리 절차를 반영하여 유기적으로 구조화하고 향후 업무 변동에 따른 확장성을 충분히 고려해야 함\n",
      "ㅇ 데이터 관리 지침을 수용할 수 있도록 DB설계가 되어야 함\n",
      "ㅇ 데이터의 정합성을 유지하면서 시스템의 성능을 저하시키지 않도록 DB 설계가 되어야함.\n",
      "ㅇ 주관기관의 데이터 품질 가이드와 행정정보 데이터 베이스 표준화 지침을 준수하여 DB를 설계하여야 함 \n",
      "ㅇ DB설계는 모델링 도구를 활용하여 작성하고 공유 할 수 있어야 함\n",
      "ㅇ DB세부항목 정합성 심층 분석 및 정제\n",
      "  - 정합성 규칙 작성, 데이터 분석·정제·관리 개선 방안 도출\n",
      "ㅇ 데이터 모델링\n",
      "  - 현행 업무시스템을 분석하여 데이터 관련 요건 및 미사용 테이블, 최종 데이터생성 시기 등을 분석하여 데이터베이스 설계 표준 및 가이드에 따라서 주제영역 정의, 개념적, 논리적, 물리적 데이터 모델링을 수행\n",
      "  - 개별적으로 설계되어 요건변경에 취약한 구조의 데이터베이스를 통합·체계화하는 등 기본구조가 명확한 개념모델로 설계하여 논리 데이터모델 전개 방향성 제시\n",
      "  - 업무특성 및 연관성을 고려하여 중복이 발생하지 않고, 공유·활용 및 업무요건변경, 프로그램 수정요청에 따른 구조적 변화가 최소화 될 수 있도록 유연한 통합 DB설계 (논리/물리모델)\n",
      "  - 시스템의 기준정보를 정의하고, 주체와 행위를 명확하게 구분하여 응용시스템 구조 변경과 업무 변화까지 고려하여 설계\n",
      "  - 대량 업무정보 조회와 탐색 등에도 데이터베이스의 성능이 확보될 수 있도록 설계\n",
      "  - 데이터 표준화규칙에 기반한 명명규칙에 따라 논리모델 및 물리모델의 데이터 요소에 반영\n",
      "  - 개인정보가 노출되지 않도록 보안을 고려\n",
      "  - 데이터 모델링 수행 시 그간 고용24 구축방안 수립 ISP 컨설팅 결과를 기반으로 구체적인 모델을 도출하여야 함\n",
      "ㅇ 데이터 모델링 실행 방안 제시\n",
      "  - 데이터 모델링에 대한 방법론, 투입 인력, 기간, 상세 수행 내역 등 종합적으로 검토하여 방안 제시\n",
      "  - 응용시스템 설계 파트와 데이터베이스 설계 파트 상호간에 긴밀히 협조\n",
      "  - 표준 데이터 아키텍처를 정의하고 실제 데이터베이스 설계 및 구축을 위해 DB 모델링 도구를 통한 설계 실시\n",
      "ㅇ 데이터 구조 설계 원칙 및 가이드 제시\n",
      "  - 데이터 구조 설계(모델링) 원칙 및 가이드를 제시하고 이를 준수하여 데이터 구조를 설계, 구현하여야 함\n",
      "  - 일관성, 데이터의 종속성, 무결성, DB 성능 등이 고려되어야 함\n",
      "ㅇ 데이터 주제영역 정의 및 개념·논리·물리 모델 설계\n",
      "  - 데이터 공유 및 활용, 업무요건 변화, 시스템 변경으로 인한 DB의 구조적 변화가 최소화될 수 있도록 유연한 구조로 설계하여야 함\n",
      "  - 데이터 분류체계, 명명 규칙, DB Object 사용기준이 반영되어야 함\n",
      "  - 주제영역, 개념 데이터 모델, 논리 데이터 모델, 물리 데이터 모델의 설계 산출물을 사전에 검토할 수 있도록 제출하여야 함\n",
      "\n",
      "산출 정보: 데이터 구조 설계 원칙 및 가이드, 데이터 주제영역 정의서, 개념 데이터 모델, 논리 데이터 모델 설계서, 물리데이터 모델 설계서, 엔터티정의서, 애트리뷰터정의서, 데이터베이스정의서\n"
     ]
    }
   ],
   "source": [
    "for data in korq['data']:\n",
    "    for para in data['paragraphs']:\n",
    "        if para['context_id']=='DAR-001':\n",
    "            print(para['context'])"
   ]
  },
  {
   "cell_type": "code",
   "execution_count": null,
   "id": "4d582b52-6fd2-47d4-b9f3-4e1d4717a309",
   "metadata": {},
   "outputs": [],
   "source": []
  },
  {
   "cell_type": "code",
   "execution_count": null,
   "id": "0f52fd5a-01a8-4501-a21d-bac09d85d3ce",
   "metadata": {},
   "outputs": [],
   "source": []
  },
  {
   "cell_type": "code",
   "execution_count": null,
   "id": "300df469-6faa-4eb3-9314-1151493bc88c",
   "metadata": {},
   "outputs": [],
   "source": []
  },
  {
   "cell_type": "code",
   "execution_count": 239,
   "id": "d1b10ff8-bf55-433f-a6f7-30be2cf2d8fd",
   "metadata": {
    "tags": []
   },
   "outputs": [],
   "source": [
    "save_name = f\"korquality_40.json\"\n",
    "with open(os.path.join(\"./\", save_name), \"w\", encoding=\"utf-8\") as json_file:\n",
    "    json.dump(korq, json_file, ensure_ascii=False, indent=\"\\t\")"
   ]
  },
  {
   "cell_type": "code",
   "execution_count": 240,
   "id": "25a699b7-07d9-474e-a300-b7f7d1ca255b",
   "metadata": {
    "tags": []
   },
   "outputs": [],
   "source": [
    "raw = []\n",
    "for para in korq['data'][0]['paragraphs']:\n",
    "    for qas in para['qas']:\n",
    "        ans = qas['answers'][0]['text'] if qas['answers'] else \"\"\n",
    "        raw.append([para['context_id'], qas['id'], ans, qas['is_impossible']])"
   ]
  },
  {
   "cell_type": "code",
   "execution_count": 241,
   "id": "6c93566a-9151-461b-b5d5-05a6ab7bb818",
   "metadata": {
    "tags": []
   },
   "outputs": [],
   "source": [
    "raw = pd.DataFrame(raw, columns=['요구사항', 'id', '판별근거', 'is_impossible'])"
   ]
  },
  {
   "cell_type": "code",
   "execution_count": 242,
   "id": "e10bbed3-7346-470e-a118-5e2668cf2bd0",
   "metadata": {
    "tags": []
   },
   "outputs": [],
   "source": [
    "raw['qid'] = raw.id.apply(lambda x: int(x.split('_')[2]))\n",
    "raw['sub_qid'] = raw.id.apply(lambda x: int(x.split('_')[3]))"
   ]
  },
  {
   "cell_type": "code",
   "execution_count": 243,
   "id": "bbfe02cc-e56f-4dc2-bab7-c45f01b4319c",
   "metadata": {
    "tags": []
   },
   "outputs": [],
   "source": [
    "raw = raw.sort_values(['qid','sub_qid','요구사항']).reset_index(drop=True)"
   ]
  },
  {
   "cell_type": "code",
   "execution_count": 244,
   "id": "d404b74a-235a-42c8-8c42-ee7265b91221",
   "metadata": {
    "tags": []
   },
   "outputs": [],
   "source": [
    "raw['반영여부'] = raw.is_impossible.apply(lambda x: 0 if x else 1)"
   ]
  },
  {
   "cell_type": "code",
   "execution_count": 245,
   "id": "acb4fa5f-8af7-478c-bc5a-dc843cb6808f",
   "metadata": {
    "tags": []
   },
   "outputs": [],
   "source": [
    "raw[['qid','sub_qid','요구사항','반영여부','판별근거']].to_csv('시연용데이터GT.csv', encoding='cp949', index=False)"
   ]
  },
  {
   "cell_type": "code",
   "execution_count": 246,
   "id": "a3d6d1e8-80b0-48fe-80d1-a26ae0378fb5",
   "metadata": {},
   "outputs": [],
   "source": [
    "pr = load_json(\"../../data/predictions_final.json\")"
   ]
  },
  {
   "cell_type": "code",
   "execution_count": 247,
   "id": "de1f30cc-8547-42b6-b89a-912fc094893d",
   "metadata": {
    "tags": []
   },
   "outputs": [],
   "source": [
    "pr = pd.DataFrame(pr.items(), columns =['id','모델예측'])"
   ]
  },
  {
   "cell_type": "code",
   "execution_count": 248,
   "id": "c59df4f1-f01c-4ef1-96ed-e2111c6552d6",
   "metadata": {
    "tags": []
   },
   "outputs": [
    {
     "data": {
      "text/html": [
       "<div>\n",
       "<style scoped>\n",
       "    .dataframe tbody tr th:only-of-type {\n",
       "        vertical-align: middle;\n",
       "    }\n",
       "\n",
       "    .dataframe tbody tr th {\n",
       "        vertical-align: top;\n",
       "    }\n",
       "\n",
       "    .dataframe thead th {\n",
       "        text-align: right;\n",
       "    }\n",
       "</style>\n",
       "<table border=\"1\" class=\"dataframe\">\n",
       "  <thead>\n",
       "    <tr style=\"text-align: right;\">\n",
       "      <th></th>\n",
       "      <th>qid</th>\n",
       "      <th>sub_qid</th>\n",
       "      <th>요구사항</th>\n",
       "      <th>반영여부</th>\n",
       "      <th>판별근거</th>\n",
       "      <th>모델예측</th>\n",
       "    </tr>\n",
       "  </thead>\n",
       "  <tbody>\n",
       "    <tr>\n",
       "      <th>0</th>\n",
       "      <td>1</td>\n",
       "      <td>1</td>\n",
       "      <td>DAR-002</td>\n",
       "      <td>1</td>\n",
       "      <td>- 코드관리체계, 표준화(단어, 용어, 도메인 등) 방안 등 수립</td>\n",
       "      <td>-</td>\n",
       "    </tr>\n",
       "    <tr>\n",
       "      <th>1</th>\n",
       "      <td>1</td>\n",
       "      <td>1</td>\n",
       "      <td>DAR-004</td>\n",
       "      <td>0</td>\n",
       "      <td></td>\n",
       "      <td>- 발주기관의 표준도메인을 준수하고 표준도메인 기준으로 표준용어를 활용 및 생성하여야 함</td>\n",
       "    </tr>\n",
       "    <tr>\n",
       "      <th>2</th>\n",
       "      <td>1</td>\n",
       "      <td>1</td>\n",
       "      <td>DAR-012</td>\n",
       "      <td>0</td>\n",
       "      <td></td>\n",
       "      <td></td>\n",
       "    </tr>\n",
       "    <tr>\n",
       "      <th>3</th>\n",
       "      <td>2</td>\n",
       "      <td>1</td>\n",
       "      <td>DAR-002</td>\n",
       "      <td>1</td>\n",
       "      <td>- 시스템 구축에 따라 추가가 필요한 데이터 표준항목(단어, 용어, 도메인)을 정의...</td>\n",
       "      <td>공통표준용어(행정안전부고시), 공공데이터 관리지침(행정안전부고시), 공공데이터 품질...</td>\n",
       "    </tr>\n",
       "    <tr>\n",
       "      <th>4</th>\n",
       "      <td>2</td>\n",
       "      <td>1</td>\n",
       "      <td>DAR-003</td>\n",
       "      <td>0</td>\n",
       "      <td></td>\n",
       "      <td></td>\n",
       "    </tr>\n",
       "    <tr>\n",
       "      <th>...</th>\n",
       "      <td>...</td>\n",
       "      <td>...</td>\n",
       "      <td>...</td>\n",
       "      <td>...</td>\n",
       "      <td>...</td>\n",
       "      <td>...</td>\n",
       "    </tr>\n",
       "    <tr>\n",
       "      <th>208</th>\n",
       "      <td>19</td>\n",
       "      <td>3</td>\n",
       "      <td>DAR-016</td>\n",
       "      <td>0</td>\n",
       "      <td></td>\n",
       "      <td>*</td>\n",
       "    </tr>\n",
       "    <tr>\n",
       "      <th>209</th>\n",
       "      <td>19</td>\n",
       "      <td>3</td>\n",
       "      <td>DAR-019</td>\n",
       "      <td>1</td>\n",
       "      <td>- 본 사업을 통해 구축되는 시스템과 연관된 개방데이터 목록을 식별하고 개방데이...</td>\n",
       "      <td>-</td>\n",
       "    </tr>\n",
       "    <tr>\n",
       "      <th>210</th>\n",
       "      <td>20</td>\n",
       "      <td>1</td>\n",
       "      <td>DAR-004</td>\n",
       "      <td>0</td>\n",
       "      <td></td>\n",
       "      <td></td>\n",
       "    </tr>\n",
       "    <tr>\n",
       "      <th>211</th>\n",
       "      <td>20</td>\n",
       "      <td>1</td>\n",
       "      <td>DAR-007</td>\n",
       "      <td>0</td>\n",
       "      <td></td>\n",
       "      <td></td>\n",
       "    </tr>\n",
       "    <tr>\n",
       "      <th>212</th>\n",
       "      <td>20</td>\n",
       "      <td>1</td>\n",
       "      <td>DAR-019</td>\n",
       "      <td>0</td>\n",
       "      <td></td>\n",
       "      <td></td>\n",
       "    </tr>\n",
       "  </tbody>\n",
       "</table>\n",
       "<p>213 rows × 6 columns</p>\n",
       "</div>"
      ],
      "text/plain": [
       "     qid  sub_qid     요구사항  반영여부  \\\n",
       "0      1        1  DAR-002     1   \n",
       "1      1        1  DAR-004     0   \n",
       "2      1        1  DAR-012     0   \n",
       "3      2        1  DAR-002     1   \n",
       "4      2        1  DAR-003     0   \n",
       "..   ...      ...      ...   ...   \n",
       "208   19        3  DAR-016     0   \n",
       "209   19        3  DAR-019     1   \n",
       "210   20        1  DAR-004     0   \n",
       "211   20        1  DAR-007     0   \n",
       "212   20        1  DAR-019     0   \n",
       "\n",
       "                                                  판별근거  \\\n",
       "0                - 코드관리체계, 표준화(단어, 용어, 도메인 등) 방안 등 수립    \n",
       "1                                                        \n",
       "2                                                        \n",
       "3    - 시스템 구축에 따라 추가가 필요한 데이터 표준항목(단어, 용어, 도메인)을 정의...   \n",
       "4                                                        \n",
       "..                                                 ...   \n",
       "208                                                      \n",
       "209    - 본 사업을 통해 구축되는 시스템과 연관된 개방데이터 목록을 식별하고 개방데이...   \n",
       "210                                                      \n",
       "211                                                      \n",
       "212                                                      \n",
       "\n",
       "                                                  모델예측  \n",
       "0                                                    -  \n",
       "1    - 발주기관의 표준도메인을 준수하고 표준도메인 기준으로 표준용어를 활용 및 생성하여야 함  \n",
       "2                                                       \n",
       "3    공통표준용어(행정안전부고시), 공공데이터 관리지침(행정안전부고시), 공공데이터 품질...  \n",
       "4                                                       \n",
       "..                                                 ...  \n",
       "208                                                  *  \n",
       "209                                                  -  \n",
       "210                                                     \n",
       "211                                                     \n",
       "212                                                     \n",
       "\n",
       "[213 rows x 6 columns]"
      ]
     },
     "execution_count": 248,
     "metadata": {},
     "output_type": "execute_result"
    }
   ],
   "source": [
    "pd.merge(raw, pr)[['qid','sub_qid','요구사항','반영여부','판별근거','모델예측']]"
   ]
  },
  {
   "cell_type": "code",
   "execution_count": null,
   "id": "7f1494f4-8e1f-44db-b33d-d49d701c17e9",
   "metadata": {},
   "outputs": [],
   "source": []
  }
 ],
 "metadata": {
  "kernelspec": {
   "display_name": "Python 3 (ipykernel)",
   "language": "python",
   "name": "python3"
  },
  "language_info": {
   "codemirror_mode": {
    "name": "ipython",
    "version": 3
   },
   "file_extension": ".py",
   "mimetype": "text/x-python",
   "name": "python",
   "nbconvert_exporter": "python",
   "pygments_lexer": "ipython3",
   "version": "3.7.13"
  }
 },
 "nbformat": 4,
 "nbformat_minor": 5
}
