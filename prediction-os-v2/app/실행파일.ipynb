{
 "cells": [
  {
   "cell_type": "markdown",
   "id": "8ae4b8f3-e243-4625-b137-dc45ec6bb4c3",
   "metadata": {},
   "source": [
    "uvicorn main:app --host=0.0.0.0 --port=80 --reload"
   ]
  },
  {
   "cell_type": "code",
   "execution_count": 3,
   "id": "3e799cd8-8035-429c-a911-d529ab77aac1",
   "metadata": {},
   "outputs": [
    {
     "name": "stdout",
     "output_type": "stream",
     "text": [
      "{'doc_id': '8'}\n"
     ]
    }
   ],
   "source": [
    "import requests\n",
    "import json\n",
    "\n",
    "data = {\n",
    "    \"doc_id\": \"8\"\n",
    "}\n",
    "\n",
    "url = \"http://127.0.0.1:80/predict/\"\n",
    "# port forwarding, tunneling -> host의 포트와 연결해야함\n",
    "response = requests.post(url, json=data)\n",
    "print(json.loads(response._content.decode(response.encoding)))\n",
    "#print(\"status code :\", response.status_code)"
   ]
  },
  {
   "cell_type": "code",
   "execution_count": null,
   "id": "bd87a0f4-48f6-42af-8549-849f37076c1d",
   "metadata": {},
   "outputs": [],
   "source": []
  }
 ],
 "metadata": {
  "kernelspec": {
   "display_name": "Python 3 (ipykernel)",
   "language": "python",
   "name": "python3"
  },
  "language_info": {
   "codemirror_mode": {
    "name": "ipython",
    "version": 3
   },
   "file_extension": ".py",
   "mimetype": "text/x-python",
   "name": "python",
   "nbconvert_exporter": "python",
   "pygments_lexer": "ipython3",
   "version": "3.7.13"
  }
 },
 "nbformat": 4,
 "nbformat_minor": 5
}
